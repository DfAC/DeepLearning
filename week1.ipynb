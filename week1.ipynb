{
 "cells": [
  {
   "cell_type": "code",
   "execution_count": 32,
   "metadata": {
    "collapsed": true
   },
   "outputs": [],
   "source": [
    "import pandas as pd\n",
    "import pylab\n",
    "import matplotlib.pyplot as plt\n",
    "import matplotlib\n",
    "matplotlib.style.use('ggplot')\n",
    "#import seaborn as sns\n",
    "import numpy as np\n",
    "%matplotlib inline"
   ]
  },
  {
   "cell_type": "markdown",
   "metadata": {},
   "source": [
    "## logistic classification\n",
    "\n",
    "Defined as $WX + B = Y$ . We use softmax function to calculate probabilities from scores (logits) using $S(y_i)=\\frac{e^{y_i}}{\\sum_j e^{y_j}}$"
   ]
  },
  {
   "cell_type": "code",
   "execution_count": 41,
   "metadata": {
    "collapsed": false
   },
   "outputs": [
    {
     "name": "stdout",
     "output_type": "stream",
     "text": [
      "[ 0.08360188  0.01131428  0.00508384  0.08360188  0.01131428  0.00508384\n",
      "  0.08360188  0.01131428  0.00508384  0.08360188  0.01131428  0.00508384\n",
      "  0.08360188  0.01131428  0.00508384  0.08360188  0.01131428  0.00508384\n",
      "  0.08360188  0.01131428  0.00508384  0.08360188  0.01131428  0.00508384\n",
      "  0.08360188  0.01131428  0.00508384  0.08360188  0.01131428  0.00508384]\n"
     ]
    }
   ],
   "source": [
    "import numpy as np\n",
    "scores = [3.0, 1.0, 0.2]\n",
    "scores = scores * 10\n",
    "\n",
    "def softmax(scores):\n",
    "    #vector = np.array(scores)\n",
    "    #pass\n",
    "    vector = np.exp(scores)\n",
    "    return vector / np.sum(vector,axis = 0)\n",
    "    #return vector / vector.sum() #will fail for multidim arrays\n",
    "    \n",
    "print(softmax(scores))\n",
    "\n"
   ]
  },
  {
   "cell_type": "markdown",
   "metadata": {},
   "source": [
    "We can see that probablilty of desired input will be eventually weighted to 1, while other ones will be reduced to 0."
   ]
  },
  {
   "cell_type": "code",
   "execution_count": 33,
   "metadata": {
    "collapsed": false,
    "scrolled": true
   },
   "outputs": [
    {
     "data": {
      "image/png": "[encoded data removed]",
      "text/plain": [
       "<matplotlib.figure.Figure at 0xeb6a5f8>"
      ]
     },
     "metadata": {},
     "output_type": "display_data"
    }
   ],
   "source": [
    "# Plot softmax curves\n",
    "\n",
    "x = np.arange(-2.0, 6.0, 0.1)\n",
    "scores = np.vstack([x, np.ones_like(x), 0.2 * np.ones_like(x)])\n",
    "\n",
    "plt.plot(x, softmax(scores).T, linewidth=2)\n",
    "plt.show()"
   ]
  },
  {
   "cell_type": "markdown",
   "metadata": {},
   "source": [
    "If you multiply the score probabilities will become v small, if you divide by 10, probabilities will become"
   ]
  },
  {
   "cell_type": "code",
   "execution_count": 24,
   "metadata": {
    "collapsed": false
   },
   "outputs": [
    {
     "data": {
      "text/plain": [
       "array([ 20.08553692,   2.71828183,   1.22140276])"
      ]
     },
     "execution_count": 24,
     "metadata": {},
     "output_type": "execute_result"
    }
   ],
   "source": [
    "np.exp(scores)\n",
    "\n"
   ]
  }
 ],
 "metadata": {
  "kernelspec": {
   "display_name": "Python 2",
   "language": "python",
   "name": "python2"
  },
  "language_info": {
   "codemirror_mode": {
    "name": "ipython",
    "version": 2
   },
   "file_extension": ".py",
   "mimetype": "text/x-python",
   "name": "python",
   "nbconvert_exporter": "python",
   "pygments_lexer": "ipython2",
   "version": "2.7.11"
  }
 },
 "nbformat": 4,
 "nbformat_minor": 0
}
